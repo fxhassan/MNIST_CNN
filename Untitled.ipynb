{
 "cells": [
  {
   "cell_type": "code",
   "execution_count": 13,
   "metadata": {},
   "outputs": [
    {
     "name": "stdout",
     "output_type": "stream",
     "text": [
      "1\n",
      "1908    March   6.2 0.3\n",
      "1908    March   6.2 0.3\n",
      "['1908'] ['March'] [0.3] [6.2]\n"
     ]
    }
   ],
   "source": [
    "n = int(input())\n",
    "\n",
    "columns = input().split(\"\\t\")\n",
    "\n",
    "years = []\n",
    "months = []\n",
    "ttmax = []\n",
    "ttmin = []\n",
    "\n",
    "missing = []\n",
    "for i in range(n):\n",
    "    l = input().split()\n",
    "\n",
    "    years.append((l[0]))\n",
    "    months.append(l[1])\n",
    "    \n",
    "    #print(l[2])\n",
    "    if 'Missing' in l[2]:\n",
    "        ttmax.append(np.nan)\n",
    "        missing.append([i, \"min\"])\n",
    "    else:\n",
    "        ttmax.append(float(l[2]))\n",
    "        \n",
    "    if 'Missing' in l[3]:\n",
    "        ttmin.append(np.nan)\n",
    "        missing.append([i, \"max\"])\n",
    "    else:\n",
    "        ttmin.append(float(l[3]))\n",
    "\n",
    "        \n",
    "print(years,months,ttmin,ttmax)\n"
   ]
  },
  {
   "cell_type": "code",
   "execution_count": 50,
   "metadata": {},
   "outputs": [
    {
     "name": "stdout",
     "output_type": "stream",
     "text": [
      "0.14499815458068518\n"
     ]
    }
   ],
   "source": [
    "a"
   ]
  },
  {
   "cell_type": "code",
   "execution_count": null,
   "metadata": {},
   "outputs": [],
   "source": []
  }
 ],
 "metadata": {
  "kernelspec": {
   "display_name": "Python 3",
   "language": "python",
   "name": "python3"
  },
  "language_info": {
   "codemirror_mode": {
    "name": "ipython",
    "version": 3
   },
   "file_extension": ".py",
   "mimetype": "text/x-python",
   "name": "python",
   "nbconvert_exporter": "python",
   "pygments_lexer": "ipython3",
   "version": "3.7.4"
  }
 },
 "nbformat": 4,
 "nbformat_minor": 2
}
